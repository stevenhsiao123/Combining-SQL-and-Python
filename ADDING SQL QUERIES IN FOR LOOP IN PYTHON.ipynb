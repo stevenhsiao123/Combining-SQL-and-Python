{
 "cells": [
  {
   "cell_type": "markdown",
   "id": "66587e3a",
   "metadata": {},
   "source": [
    "## Project overview\n",
    "In my daily work, I often need to count the unique website visitors for specific domiain in which we implemented tracking code to track their website browsing behavior for a period of time, e.g., one month, while data for each day is stored in respective table, which means it would be unlikely to union all every table at once.\n",
    "\n",
    "As a result, with list, for loop and format string in sql queries combined, I only need to change a few variables everytime I need to do calculation and analysis. Most importantly, it significantly reduces the time compared to doing all these in database."
   ]
  },
  {
   "cell_type": "code",
   "execution_count": 10,
   "id": "1e305b02",
   "metadata": {},
   "outputs": [],
   "source": [
    "import pyodbc\n",
    "import pymysql\n",
    "import numpy\n",
    "import pandas as pd\n",
    "from datetime import timedelta, date\n",
    "from datetime import datetime\n",
    "from tqdm import trange\n",
    "import datetime"
   ]
  },
  {
   "cell_type": "markdown",
   "id": "9c939a5c",
   "metadata": {},
   "source": [
    "##### 1. Create a list that includes the range from start to end date and convert data string to format in SQL"
   ]
  },
  {
   "cell_type": "code",
   "execution_count": 2,
   "id": "bf12f72c",
   "metadata": {},
   "outputs": [
    {
     "data": {
      "text/plain": [
       "['20231025',\n",
       " '20231026',\n",
       " '20231027',\n",
       " '20231028',\n",
       " '20231029',\n",
       " '20231030',\n",
       " '20231031',\n",
       " '20231101',\n",
       " '20231102',\n",
       " '20231103',\n",
       " '20231104',\n",
       " '20231105',\n",
       " '20231106',\n",
       " '20231107',\n",
       " '20231108',\n",
       " '20231109',\n",
       " '20231110',\n",
       " '20231111',\n",
       " '20231112',\n",
       " '20231113',\n",
       " '20231114',\n",
       " '20231115',\n",
       " '20231116',\n",
       " '20231117',\n",
       " '20231118']"
      ]
     },
     "execution_count": 2,
     "metadata": {},
     "output_type": "execute_result"
    }
   ],
   "source": [
    "mylist = []\n",
    "\n",
    "start_dt = date(2023, 10, 25)\n",
    "end_dt = date(2023, 11, 18)\n",
    "for dt in daterange(start_dt, end_dt):\n",
    "    mylist.append(str(dt))\n",
    "    \n",
    "date = [s.replace('-', '') for s in mylist]\n",
    "date"
   ]
  },
  {
   "cell_type": "markdown",
   "id": "4a0232e7",
   "metadata": {},
   "source": [
    "##### 2. Connect to database and run SQL queries using format string"
   ]
  },
  {
   "cell_type": "code",
   "execution_count": null,
   "id": "de2b1dc6",
   "metadata": {},
   "outputs": [],
   "source": [
    "conn = pyodbc.connect('Driver={MariaDB ODBC 3.1 Driver};Server=XX.XX.XX.XX;Database=XXX;UID=XXX;PWD=XXX')\n",
    "print('Connected to Database successfully')\n",
    "\n",
    "#Using for loop to run SQL queries and concatenate result from different tables \n",
    "\n",
    "df = pd.DataFrame()\n",
    "for i in date:\n",
    "    sql_query = \"\"\"SELECT user_id\n",
    "                   FROM XXX.%s\n",
    "                   WHERE SOURCE = 'XXXX'\n",
    "                   AND domai_name = 'XXX'\n",
    "                \"\"\"%(i)\n",
    "           \n",
    "    df_query = pd.read_sql(sql_query, conn)\n",
    "    df = pd.concat([df, df_query], ignore_index = True)\n",
    "\n",
    "\n",
    "    \n",
    "print('Unique web visitor:',df.user_id.nunique())  \n",
    "\n",
    "#Calculate the time it took\n",
    "print('It took',datetime.now() - startTime,'minutes.')"
   ]
  }
 ],
 "metadata": {
  "kernelspec": {
   "display_name": "Python 3 (ipykernel)",
   "language": "python",
   "name": "python3"
  },
  "language_info": {
   "codemirror_mode": {
    "name": "ipython",
    "version": 3
   },
   "file_extension": ".py",
   "mimetype": "text/x-python",
   "name": "python",
   "nbconvert_exporter": "python",
   "pygments_lexer": "ipython3",
   "version": "3.11.5"
  }
 },
 "nbformat": 4,
 "nbformat_minor": 5
}
