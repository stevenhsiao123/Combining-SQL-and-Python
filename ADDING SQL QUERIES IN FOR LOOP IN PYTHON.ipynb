{
 "cells": [
  {
   "cell_type": "markdown",
   "id": "7c183780",
   "metadata": {},
   "source": [
    "## Project overview\n",
    "In my day-to-day responsibilities, I frequently encounter the need to tally unique website visitors for a specific domain where we've implemented tracking code to monitor their browsing behavior over a defined period, such as one month. The data for each day is stored in individual tables, making it impractical to union all tables simultaneously.\n",
    "\n",
    "To address this challenge, I leverage a combination of list structures, for loops, ,formatted string techniques, SQL queries on Python. This approach allows for seamless adjustments of a few variables whenever calculations or analyses are required. The key advantage lies in its substantial time-saving benefits compared to performing these tasks directly within the database."
   ]
  },
  {
   "cell_type": "code",
   "execution_count": 10,
   "id": "1e305b02",
   "metadata": {},
   "outputs": [],
   "source": [
    "import pyodbc\n",
    "import pymysql\n",
    "import numpy\n",
    "import pandas as pd\n",
    "from datetime import timedelta, date\n",
    "from datetime import datetime\n",
    "from tqdm import trange\n",
    "import datetime"
   ]
  },
  {
   "cell_type": "markdown",
   "id": "4f401f99",
   "metadata": {},
   "source": [
    "##### 1. Create a list that includes the range from start to end date and convert data string to format in SQL"
   ]
  },
  {
   "cell_type": "code",
   "execution_count": null,
   "id": "bf12f72c",
   "metadata": {},
   "outputs": [],
   "source": [
    "mylist = []\n",
    "\n",
    "start_dt = date(2023, 10, 25)\n",
    "end_dt = date(2023, 11, 18)\n",
    "for dt in daterange(start_dt, end_dt):\n",
    "    mylist.append(str(dt))\n",
    "    \n",
    "date = [s.replace('-', '') for s in mylist]\n",
    "date"
   ]
  },
  {
   "cell_type": "markdown",
   "id": "4a0232e7",
   "metadata": {},
   "source": [
    "##### 2. Connect to database and run SQL queries using format string"
   ]
  },
  {
   "cell_type": "code",
   "execution_count": null,
   "id": "de2b1dc6",
   "metadata": {},
   "outputs": [],
   "source": [
    "conn = pyodbc.connect('Driver={Your DB Driver};Server=XX.XX.XX.XX;Database=XXX;UID=XXX;PWD=XXX')\n",
    "print('Connected to Database successfully')\n",
    "\n",
    "#Using for loop to run SQL queries and concatenate result from different tables \n",
    "\n",
    "df = pd.DataFrame()\n",
    "for i in date:\n",
    "    sql_query = \"\"\"SELECT user_id\n",
    "                   FROM XXX.%s\n",
    "                   WHERE SOURCE = 'XXXX'\n",
    "                   AND domai_name = 'XXX'\n",
    "                \"\"\"%(i)\n",
    "           \n",
    "    df_query = pd.read_sql(sql_query, conn)\n",
    "    df = pd.concat([df, df_query], ignore_index = True)\n",
    "\n",
    "\n",
    "#Calculate unique visitors  \n",
    "print('Unique web visitor:',df.user_id.nunique())  \n",
    "\n",
    "#Calculate the time it took\n",
    "print('It took',datetime.now() - startTime,'minutes.')"
   ]
  }
 ],
 "metadata": {
  "kernelspec": {
   "display_name": "Python 3 (ipykernel)",
   "language": "python",
   "name": "python3"
  },
  "language_info": {
   "codemirror_mode": {
    "name": "ipython",
    "version": 3
   },
   "file_extension": ".py",
   "mimetype": "text/x-python",
   "name": "python",
   "nbconvert_exporter": "python",
   "pygments_lexer": "ipython3",
   "version": "3.11.5"
  }
 },
 "nbformat": 4,
 "nbformat_minor": 5
}
